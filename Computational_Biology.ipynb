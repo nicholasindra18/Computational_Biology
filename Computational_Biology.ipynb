{
  "nbformat": 4,
  "nbformat_minor": 0,
  "metadata": {
    "colab": {
      "provenance": []
    },
    "kernelspec": {
      "name": "python3",
      "display_name": "Python 3"
    },
    "language_info": {
      "name": "python"
    }
  },
  "cells": [
    {
      "cell_type": "code",
      "execution_count": null,
      "metadata": {
        "id": "EHRdjkkjxcKz"
      },
      "outputs": [],
      "source": [
        "!pip install Bio"
      ]
    },
    {
      "cell_type": "code",
      "source": [
        "from Bio import SeqIO\n",
        "\n",
        "for x in SeqIO.parse('sequence.fasta', 'fasta'):\n",
        "  print(x.seq)\n",
        "\n",
        "for y in SeqIO.parse('sequence.gb', 'gb'):\n",
        "  print(y.seq)\n",
        "\n",
        "SeqA = x.seq\n",
        "SeqB = y.seq\n",
        "\n",
        "print('Length A : ', len(SeqA))\n",
        "print('Length B : ', len(SeqB))"
      ],
      "metadata": {
        "id": "my_dXACtx2KI"
      },
      "execution_count": null,
      "outputs": []
    },
    {
      "cell_type": "code",
      "source": [
        "print('Index A : ', SeqA.index('GTG'))"
      ],
      "metadata": {
        "id": "2Lxf8V-1yi1L"
      },
      "execution_count": null,
      "outputs": []
    },
    {
      "cell_type": "code",
      "source": [
        "SequenceA = SeqA[0:10]\n",
        "SequenceB = SeqA[len(SeqA)-5:len(SeqA)]\n",
        "Sequence = SequenceA + SequenceB\n",
        "SeqC = Sequence[::-1]\n",
        "print('SeqC: ', SeqC)"
      ],
      "metadata": {
        "id": "bFUhG0CXyzfl"
      },
      "execution_count": null,
      "outputs": []
    },
    {
      "cell_type": "code",
      "source": [
        "from Bio.SeqUtils import MeltingTemp as mt\n",
        "\n",
        "mtA = mt.Tm_Wallace(SeqA)\n",
        "print(mtA)"
      ],
      "metadata": {
        "id": "cYQE3nEqzLzT"
      },
      "execution_count": null,
      "outputs": []
    },
    {
      "cell_type": "code",
      "source": [
        "from Bio.SeqUtils import GC\n",
        "print('GC SeqA: ', GC(SeqA))\n",
        "print('AT SeqA: ', 100 - GC(SeqA))"
      ],
      "metadata": {
        "id": "Mc0Ts5Epzl_D"
      },
      "execution_count": null,
      "outputs": []
    },
    {
      "cell_type": "code",
      "source": [
        "from Bio.SeqUtils import molecular_weight as mw\n",
        "print(mw(SeqA))"
      ],
      "metadata": {
        "id": "allig3Zn0DRU"
      },
      "execution_count": null,
      "outputs": []
    },
    {
      "cell_type": "code",
      "source": [
        "from collections import Counter\n",
        "from matplotlib import pyplot as plt\n",
        "\n",
        "dna_freq = Counter(SeqA)\n",
        "key = dna_freq.keys()\n",
        "value = dna_freq.values()\n",
        "\n",
        "print(key)\n",
        "print(value)\n",
        "\n",
        "plt.bar(key, value)"
      ],
      "metadata": {
        "id": "DHxyemWr0a7n"
      },
      "execution_count": null,
      "outputs": []
    },
    {
      "cell_type": "code",
      "source": [
        "from Bio.Seq import Seq\n",
        "from Bio.SeqUtils import seq3\n",
        "\n",
        "complement = SeqA.complement()\n",
        "\n",
        "print('mRNA : ', complement.transcribe())"
      ],
      "metadata": {
        "id": "eRPYe5UL0-RV"
      },
      "execution_count": null,
      "outputs": []
    },
    {
      "cell_type": "code",
      "source": [
        "from Bio import pairwise2\n",
        "from Bio.pairwise2 import format_alignment as fa\n",
        "\n",
        "localScore = pairwise2.align.localxx(SeqA, SeqB, one_alignment_only=True, score_only=True)\n",
        "print(localScore)\n",
        "\n",
        "localDisplay = pairwise2.align.localxx(SeqA, SeqB)\n",
        "\n",
        "for x in localDisplay:\n",
        "  print(fa(*x))\n",
        "\n"
      ],
      "metadata": {
        "id": "wmZGO6cV1gVd"
      },
      "execution_count": null,
      "outputs": []
    },
    {
      "cell_type": "code",
      "source": [
        "!pip install levenshtein"
      ],
      "metadata": {
        "id": "hq1uzKMy3nU7"
      },
      "execution_count": null,
      "outputs": []
    },
    {
      "cell_type": "code",
      "source": [
        "from Levenshtein import distance\n",
        "\n",
        "def humming(SeqA, SeqB):\n",
        "  return sum(1 for a, b in zip(SeqA, SeqB) if a != b)\n",
        "\n",
        "print(humming(SeqA, SeqB))\n",
        "\n",
        "\n",
        "print('Leven L: ', distance(SeqA, SeqB))"
      ],
      "metadata": {
        "id": "AAL4U8ve32b9"
      },
      "execution_count": null,
      "outputs": []
    },
    {
      "cell_type": "code",
      "source": [
        "def dotplot(SeqA, SeqB):\n",
        "  match = chr(0x25A0)\n",
        "  notmatch = ' '\n",
        "  print(' |', SeqB)\n",
        "  for i in SeqA:\n",
        "    print(i+'|', end='')\n",
        "    for j in SeqB:\n",
        "      if i == j:\n",
        "        print(match, end='')\n",
        "      else:\n",
        "        print(notmatch, end='')\n",
        "    print('')\n",
        "\n",
        "dotplot(SeqA, SeqB)"
      ],
      "metadata": {
        "id": "oa9l8VNQ4eev"
      },
      "execution_count": null,
      "outputs": []
    }
  ]
}